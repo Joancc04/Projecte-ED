{
 "cells": [
  {
   "cell_type": "code",
   "execution_count": 12,
   "metadata": {},
   "outputs": [
    {
     "name": "stdout",
     "output_type": "stream",
     "text": [
      "['hola', 'que', 'tal', 'tot', 'bé?', 'C:\\\\Users\\\\joanc\\\\OneDrive\\\\Escritorio\\\\Projecte-ED\\\\PROVA\\\\PROVA2\\\\asdfasdf\\\\prova3']\n"
     ]
    }
   ],
   "source": [
    "with open('prova.txt', encoding='UTF-8') as file:\n",
    "    print(list(map(lambda x: x.removesuffix('\\n'), file.readlines())))"
   ]
  },
  {
   "cell_type": "code",
   "execution_count": 11,
   "metadata": {},
   "outputs": [
    {
     "ename": "SyntaxError",
     "evalue": "(unicode error) 'unicodeescape' codec can't decode bytes in position 2-3: truncated \\UXXXXXXXX escape (3472960946.py, line 1)",
     "output_type": "error",
     "traceback": [
      "\u001b[1;36m  Cell \u001b[1;32mIn[11], line 1\u001b[1;36m\u001b[0m\n\u001b[1;33m    original_string = 'C:\\Users\\joanc\\OneDrive\\Escritorio\\Projecte-ED\\PROVA\\PROVA2\\asdfasdf\\prova3'\u001b[0m\n\u001b[1;37m                                                                                                   ^\u001b[0m\n\u001b[1;31mSyntaxError\u001b[0m\u001b[1;31m:\u001b[0m (unicode error) 'unicodeescape' codec can't decode bytes in position 2-3: truncated \\UXXXXXXXX escape\n"
     ]
    }
   ],
   "source": [
    "\n",
    "\n",
    "\n",
    "original_string = 'C:\\Users\\joanc\\OneDrive\\Escritorio\\Projecte-ED\\PROVA\\PROVA2\\asdfasdf\\prova3'\n",
    "raw_string = original_string.replace('\\\\', r'\\\\')\n",
    "\n",
    "print(raw_string)\n"
   ]
  },
  {
   "cell_type": "code",
   "execution_count": 17,
   "metadata": {},
   "outputs": [],
   "source": [
    "l = ['#tusmueltos.mp3', r'C:\\Users\\joanc\\OneDrive\\Escritorio\\Projecte-ED\\PROVA\\PROVA2\\asdfasdf\\prova3']\n",
    "import os\n",
    "if l[0] and os.path.exists(l[0]): print(\"añlsdkjfñalskjdf\")"
   ]
  },
  {
   "cell_type": "code",
   "execution_count": 18,
   "metadata": {},
   "outputs": [
    {
     "data": {
      "text/plain": [
       "'.mp3'"
      ]
     },
     "execution_count": 18,
     "metadata": {},
     "output_type": "execute_result"
    }
   ],
   "source": [
    "l = 'añlksdjfñalksjdfñladf.mp3'\n",
    "l[-4:]"
   ]
  }
 ],
 "metadata": {
  "language_info": {
   "name": "python"
  }
 },
 "nbformat": 4,
 "nbformat_minor": 2
}
